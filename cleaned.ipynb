{
 "cells": [
  {
   "cell_type": "code",
   "execution_count": 1,
   "id": "7a4e6177-c6e2-4027-8152-7b68b5292617",
   "metadata": {},
   "outputs": [],
   "source": [
    "import pandas as pd\n",
    "\n",
    "from sklearn.preprocessing import LabelEncoder\n",
    "from sklearn.compose import ColumnTransformer\n",
    "from sklearn.impute import SimpleImputer\n",
    "from sklearn.pipeline import Pipeline\n",
    "from sklearn.preprocessing import StandardScaler"
   ]
  },
  {
   "cell_type": "code",
   "execution_count": 11,
   "id": "e1150a8d-4141-4c7f-9948-d945b7a29b1b",
   "metadata": {},
   "outputs": [
    {
     "data": {
      "text/plain": [
       "array(['critical', 'mild', 'moderate', 'severe', 'terminal'], dtype=object)"
      ]
     },
     "execution_count": 11,
     "metadata": {},
     "output_type": "execute_result"
    }
   ],
   "source": [
    "conditions"
   ]
  },
  {
   "cell_type": "code",
   "execution_count": 2,
   "id": "6e524b4b-37bd-4e06-9ca4-cabcf367eb74",
   "metadata": {},
   "outputs": [],
   "source": [
    "train_df = pd.read_csv(\"train.csv\")"
   ]
  },
  {
   "cell_type": "code",
   "execution_count": 3,
   "id": "6262d5b7-186e-4299-a82a-802f54534f46",
   "metadata": {},
   "outputs": [],
   "source": [
    "heavy_columns = train_df.select_dtypes(include = \"float64\")\n",
    "train_df[\"birthdate\"] = pd.to_datetime(train_df[\"birthdate\"])"
   ]
  },
  {
   "cell_type": "code",
   "execution_count": 4,
   "id": "efffee21-826a-4803-b553-4c130e64789e",
   "metadata": {},
   "outputs": [],
   "source": [
    "def drop_columns(df):\n",
    "    df.drop([\"id\", \"address\", \"mail\", \"username\", \"name\"], axis = 1, inplace = True)\n",
    "\n",
    "def downsize(df):\n",
    "    heavy_columns = df.select_dtypes(\"float64\").columns\n",
    "    for i in heavy_columns:\n",
    "        df[i] = df[i].astype(\"float32\")\n",
    "    return df\n",
    "\n",
    "def extract(df):\n",
    "    pattern = r'(-?\\d*\\.?\\d+)'\n",
    "    object_dtypes = df.select_dtypes(include = \"object\").columns\n",
    "    for i in object_dtypes:\n",
    "        df[i] = df[i].str.extract(pattern)\n",
    "        df[i] = df[i].astype('float32')\n",
    "    return df\n",
    "\n",
    "def encode(df, train = True):\n",
    "    if (train):\n",
    "        label_enc_cond, label_enc_sex = LabelEncoder(), LabelEncoder()\n",
    "        df[\"Condition\"] = label_enc_cond.fit_transform(df[\"Condition\"])\n",
    "        df[\"sex\"] = label_enc_sex.fit_transform(df[\"sex\"])\n",
    "        \n",
    "        conditions = label_enc_cond.inverse_transform([0, 1, 2, 3, 4])\n",
    "        sex = label_enc_sex.inverse_transform([0, 1])\n",
    "        return conditions, sex\n",
    "    else:\n",
    "        label_enc_sex = LabelEncoder()\n",
    "        df[\"sex\"] = label_enc_sex.fit_transform(df[\"sex\"])\n",
    "        sex = label_enc_sex.inverse_transform([0, 1])\n",
    "        return sex\n",
    "\n",
    "def impute(df):\n",
    "    numeric_columns = list(df.select_dtypes(include = [\"float32\"]).columns)\n",
    "    imp = SimpleImputer(strategy='mean')\n",
    "    columns_with_nulls = df.columns[df.isnull().any()]\n",
    "\n",
    "    for i in columns_with_nulls:\n",
    "        df[[i]] = imp.fit_transform(df[[i]])\n",
    "    return df\n",
    "\n",
    "def preprocess(df, columns):\n",
    "    original_dtypes = df[columns].dtypes\n",
    "    preprocessor = ColumnTransformer(\n",
    "        transformers=[\n",
    "            ('scaler', StandardScaler(), columns),\n",
    "        ],\n",
    "        remainder='passthrough'\n",
    "    )\n",
    "\n",
    "    pipeline = Pipeline([\n",
    "        ('preprocessor', preprocessor)\n",
    "    ])\n",
    "\n",
    "    transformed_data = pd.DataFrame(pipeline.fit_transform(df[columns]), columns=columns)\n",
    "    df[columns] = transformed_data\n",
    "    return df"
   ]
  },
  {
   "cell_type": "code",
   "execution_count": 5,
   "id": "f2e0d20e-a867-4a3a-9232-042e4e071874",
   "metadata": {},
   "outputs": [],
   "source": [
    "conditions, sex = encode(train_df)\n",
    "drop_columns(train_df)\n",
    "train_df = extract(train_df)\n",
    "train_df = downsize(train_df)\n",
    "train_df = impute(train_df)\n",
    "train_df = preprocess(train_df, train_df.select_dtypes(include=\"float32\").columns)"
   ]
  },
  {
   "cell_type": "code",
   "execution_count": 6,
   "id": "86885a1e-4598-497f-aa4c-eb1398187d9c",
   "metadata": {},
   "outputs": [
    {
     "name": "stdout",
     "output_type": "stream",
     "text": [
      "<class 'pandas.core.frame.DataFrame'>\n",
      "RangeIndex: 180000 entries, 0 to 179999\n",
      "Data columns (total 53 columns):\n",
      " #   Column     Non-Null Count   Dtype  \n",
      "---  ------     --------------   -----  \n",
      " 0   sex        180000 non-null  int64  \n",
      " 1   birthdate  180000 non-null  float64\n",
      " 2   NuuVLWVE   180000 non-null  float32\n",
      " 3   EKlEdV0k   180000 non-null  float32\n",
      " 4   KQ7f9qDP   180000 non-null  float32\n",
      " 5   D2rRypP1   180000 non-null  float32\n",
      " 6   JC6b3NlG   180000 non-null  float32\n",
      " 7   m5OuvpQO   180000 non-null  float32\n",
      " 8   wboRXDiy   180000 non-null  float32\n",
      " 9   8nHIrONK   180000 non-null  float32\n",
      " 10  ymxc3enI   180000 non-null  float32\n",
      " 11  aauhNN75   180000 non-null  float32\n",
      " 12  u6eGD9z2   180000 non-null  float32\n",
      " 13  zNyeK64b   180000 non-null  float32\n",
      " 14  4pJNIVmd   180000 non-null  float32\n",
      " 15  tTiXwwrv   180000 non-null  float32\n",
      " 16  eilg7pwe   180000 non-null  float32\n",
      " 17  UKcSzGxW   180000 non-null  float32\n",
      " 18  9cy49cuB   180000 non-null  float32\n",
      " 19  LoEvGvKF   180000 non-null  float32\n",
      " 20  YaBshoVZ   180000 non-null  float32\n",
      " 21  X2c5VJ1H   180000 non-null  float32\n",
      " 22  w0gduN5C   180000 non-null  float32\n",
      " 23  SZYn8ek6   180000 non-null  float32\n",
      " 24  aW8oeMto   180000 non-null  float32\n",
      " 25  Zw6yuWW0   180000 non-null  float32\n",
      " 26  W2pj0JEd   180000 non-null  float32\n",
      " 27  Q9k6aRhd   180000 non-null  float32\n",
      " 28  yGH1HQgv   180000 non-null  float32\n",
      " 29  EAi2BxQE   180000 non-null  float32\n",
      " 30  4GzeBPVy   180000 non-null  float32\n",
      " 31  T3YmlV1z   180000 non-null  float32\n",
      " 32  ly75B9bb   180000 non-null  float32\n",
      " 33  E07lLk5u   180000 non-null  float32\n",
      " 34  uPw0cTtA   180000 non-null  float32\n",
      " 35  DeRpdoia   180000 non-null  float32\n",
      " 36  PzjlYpBu   180000 non-null  float32\n",
      " 37  DqSmYhes   180000 non-null  float32\n",
      " 38  M2BLphrW   180000 non-null  float32\n",
      " 39  Pkup3Lzf   180000 non-null  float32\n",
      " 40  TxU19caa   180000 non-null  float32\n",
      " 41  Tz6U4swp   180000 non-null  float32\n",
      " 42  fxcg3Kj8   180000 non-null  float32\n",
      " 43  Gqv7OiE4   180000 non-null  float32\n",
      " 44  NgtY9Me4   180000 non-null  float32\n",
      " 45  MhW4Idlw   180000 non-null  float32\n",
      " 46  tfaAR905   180000 non-null  float32\n",
      " 47  JDHND9yc   180000 non-null  float32\n",
      " 48  j4pSYWJB   180000 non-null  float32\n",
      " 49  2Nlqz5Mq   180000 non-null  float32\n",
      " 50  VM3j1P8I   180000 non-null  float32\n",
      " 51  bQiyW9HL   180000 non-null  float32\n",
      " 52  Condition  180000 non-null  int64  \n",
      "dtypes: float32(50), float64(1), int64(2)\n",
      "memory usage: 38.5 MB\n"
     ]
    }
   ],
   "source": [
    "train_df.info()"
   ]
  },
  {
   "cell_type": "code",
   "execution_count": 7,
   "id": "4d3be46f-f93d-4000-842a-35e3eed4745d",
   "metadata": {},
   "outputs": [],
   "source": [
    "train_df.to_csv(\"cleaned.csv\")"
   ]
  },
  {
   "cell_type": "code",
   "execution_count": 8,
   "id": "ba7fa97a-b7a5-4dab-b206-79c411748b31",
   "metadata": {},
   "outputs": [],
   "source": [
    "test_df = pd.read_csv('test.csv')\n",
    "test_df[\"birthdate\"] = pd.to_datetime(test_df[\"birthdate\"])\n",
    "drop_columns(test_df)\n",
    "encode(test_df, train = False)\n",
    "test_df = extract(test_df)\n",
    "test_df = downsize(test_df)\n",
    "test_df = impute(test_df)\n",
    "test_df = preprocess(test_df, test_df.select_dtypes(include=\"float32\").columns)"
   ]
  },
  {
   "cell_type": "code",
   "execution_count": 9,
   "id": "368297d3-048a-46cc-9809-e84b2cdc13c7",
   "metadata": {},
   "outputs": [],
   "source": [
    "test_df.to_csv(\"cleaned_test.csv\")"
   ]
  },
  {
   "cell_type": "code",
   "execution_count": 10,
   "id": "6004c283-8ade-40c2-8d5c-de7fdfac92cc",
   "metadata": {},
   "outputs": [
    {
     "name": "stdout",
     "output_type": "stream",
     "text": [
      "<class 'pandas.core.frame.DataFrame'>\n",
      "RangeIndex: 20000 entries, 0 to 19999\n",
      "Data columns (total 52 columns):\n",
      " #   Column     Non-Null Count  Dtype  \n",
      "---  ------     --------------  -----  \n",
      " 0   sex        20000 non-null  int64  \n",
      " 1   birthdate  20000 non-null  float64\n",
      " 2   NuuVLWVE   20000 non-null  float32\n",
      " 3   EKlEdV0k   20000 non-null  float32\n",
      " 4   KQ7f9qDP   20000 non-null  float32\n",
      " 5   D2rRypP1   20000 non-null  float32\n",
      " 6   JC6b3NlG   20000 non-null  float32\n",
      " 7   m5OuvpQO   20000 non-null  float32\n",
      " 8   wboRXDiy   20000 non-null  float32\n",
      " 9   8nHIrONK   20000 non-null  float32\n",
      " 10  ymxc3enI   20000 non-null  float32\n",
      " 11  aauhNN75   20000 non-null  float32\n",
      " 12  u6eGD9z2   20000 non-null  float32\n",
      " 13  zNyeK64b   20000 non-null  float32\n",
      " 14  4pJNIVmd   20000 non-null  float32\n",
      " 15  tTiXwwrv   20000 non-null  float32\n",
      " 16  eilg7pwe   20000 non-null  float32\n",
      " 17  UKcSzGxW   20000 non-null  float32\n",
      " 18  9cy49cuB   20000 non-null  float32\n",
      " 19  LoEvGvKF   20000 non-null  float32\n",
      " 20  YaBshoVZ   20000 non-null  float32\n",
      " 21  X2c5VJ1H   20000 non-null  float32\n",
      " 22  w0gduN5C   20000 non-null  float32\n",
      " 23  SZYn8ek6   20000 non-null  float32\n",
      " 24  aW8oeMto   20000 non-null  float32\n",
      " 25  Zw6yuWW0   20000 non-null  float32\n",
      " 26  W2pj0JEd   20000 non-null  float32\n",
      " 27  Q9k6aRhd   20000 non-null  float32\n",
      " 28  yGH1HQgv   20000 non-null  float32\n",
      " 29  EAi2BxQE   20000 non-null  float32\n",
      " 30  4GzeBPVy   20000 non-null  float32\n",
      " 31  T3YmlV1z   20000 non-null  float32\n",
      " 32  ly75B9bb   20000 non-null  float32\n",
      " 33  E07lLk5u   20000 non-null  float32\n",
      " 34  uPw0cTtA   20000 non-null  float32\n",
      " 35  DeRpdoia   20000 non-null  float32\n",
      " 36  PzjlYpBu   20000 non-null  float32\n",
      " 37  DqSmYhes   20000 non-null  float32\n",
      " 38  M2BLphrW   20000 non-null  float32\n",
      " 39  Pkup3Lzf   20000 non-null  float32\n",
      " 40  TxU19caa   20000 non-null  float32\n",
      " 41  Tz6U4swp   20000 non-null  float32\n",
      " 42  fxcg3Kj8   20000 non-null  float32\n",
      " 43  Gqv7OiE4   20000 non-null  float32\n",
      " 44  NgtY9Me4   20000 non-null  float32\n",
      " 45  MhW4Idlw   20000 non-null  float32\n",
      " 46  tfaAR905   20000 non-null  float32\n",
      " 47  JDHND9yc   20000 non-null  float32\n",
      " 48  j4pSYWJB   20000 non-null  float32\n",
      " 49  2Nlqz5Mq   20000 non-null  float32\n",
      " 50  VM3j1P8I   20000 non-null  float32\n",
      " 51  bQiyW9HL   20000 non-null  float32\n",
      "dtypes: float32(50), float64(1), int64(1)\n",
      "memory usage: 4.1 MB\n"
     ]
    }
   ],
   "source": [
    "test_df.info()"
   ]
  }
 ],
 "metadata": {
  "kernelspec": {
   "display_name": "Python 3 (ipykernel)",
   "language": "python",
   "name": "python3"
  },
  "language_info": {
   "codemirror_mode": {
    "name": "ipython",
    "version": 3
   },
   "file_extension": ".py",
   "mimetype": "text/x-python",
   "name": "python",
   "nbconvert_exporter": "python",
   "pygments_lexer": "ipython3",
   "version": "3.10.12"
  }
 },
 "nbformat": 4,
 "nbformat_minor": 5
}
